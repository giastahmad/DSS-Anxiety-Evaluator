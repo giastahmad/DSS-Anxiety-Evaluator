{
 "cells": [
  {
   "cell_type": "code",
   "execution_count": 1,
   "metadata": {},
   "outputs": [
    {
     "ename": "ModuleNotFoundError",
     "evalue": "No module named 'sklearn'",
     "output_type": "error",
     "traceback": [
      "\u001b[1;31m---------------------------------------------------------------------------\u001b[0m",
      "\u001b[1;31mModuleNotFoundError\u001b[0m                       Traceback (most recent call last)",
      "Cell \u001b[1;32mIn[1], line 4\u001b[0m\n\u001b[0;32m      2\u001b[0m \u001b[38;5;28;01mimport\u001b[39;00m \u001b[38;5;21;01mnumpy\u001b[39;00m \u001b[38;5;28;01mas\u001b[39;00m \u001b[38;5;21;01mnp\u001b[39;00m\n\u001b[0;32m      3\u001b[0m \u001b[38;5;28;01mimport\u001b[39;00m \u001b[38;5;21;01mre\u001b[39;00m\n\u001b[1;32m----> 4\u001b[0m \u001b[38;5;28;01mfrom\u001b[39;00m \u001b[38;5;21;01msklearn\u001b[39;00m\u001b[38;5;21;01m.\u001b[39;00m\u001b[38;5;21;01mpreprocessing\u001b[39;00m \u001b[38;5;28;01mimport\u001b[39;00m LabelEncoder, StandardScaler\n\u001b[0;32m      5\u001b[0m \u001b[38;5;28;01mfrom\u001b[39;00m \u001b[38;5;21;01msklearn\u001b[39;00m\u001b[38;5;21;01m.\u001b[39;00m\u001b[38;5;21;01mmodel_selection\u001b[39;00m \u001b[38;5;28;01mimport\u001b[39;00m train_test_split\n\u001b[0;32m      6\u001b[0m \u001b[38;5;28;01mfrom\u001b[39;00m \u001b[38;5;21;01msklearn\u001b[39;00m\u001b[38;5;21;01m.\u001b[39;00m\u001b[38;5;21;01mneighbors\u001b[39;00m \u001b[38;5;28;01mimport\u001b[39;00m KNeighborsClassifier\n",
      "\u001b[1;31mModuleNotFoundError\u001b[0m: No module named 'sklearn'"
     ]
    }
   ],
   "source": [
    "import pandas as pd\n",
    "import numpy as np\n",
    "import re\n",
    "from sklearn.preprocessing import LabelEncoder, StandardScaler\n",
    "from sklearn.model_selection import train_test_split\n",
    "from sklearn.neighbors import KNeighborsClassifier\n",
    "from sklearn.metrics import accuracy_score, classification_report, confusion_matrix\n",
    "import seaborn as sns\n",
    "import matplotlib.pyplot as plt \n",
    "import os"
   ]
  },
  {
   "cell_type": "code",
   "execution_count": null,
   "metadata": {},
   "outputs": [],
   "source": [
    "# Baca dataset\n",
    "dataset_path = \"archive/data.csv\"\n",
    "dataset = pd.read_csv(dataset_path, delimiter='\\t')"
   ]
  },
  {
   "cell_type": "code",
   "execution_count": null,
   "metadata": {},
   "outputs": [],
   "source": [
    "# Ekstrak kolom untuk Anxiety (Q2A, Q4A, Q7A, dst) menggunakan DASS keys\n",
    "ANXIETY_QUESTIONS = [2, 4, 7, 9, 15, 19, 20, 23, 25, 28, 30, 36, 40, 41]\n",
    "anxiety_columns = ['Q' + str(i) + 'A' for i in ANXIETY_QUESTIONS]"
   ]
  },
  {
   "cell_type": "code",
   "execution_count": null,
   "metadata": {},
   "outputs": [],
   "source": [
    "# Ambil hanya kolom yang berkaitan dengan Anxiety\n",
    "anxiety_data = dataset[anxiety_columns]\n",
    "\n",
    "# Kurangi 1 dari semua nilai (mengubah skala 1-4 menjadi 0-3)\n",
    "anxiety_data = anxiety_data.subtract(1)\n",
    "\n",
    "# Hitung total skor\n",
    "anxiety_data['Total_Count'] = anxiety_data.sum(axis=1)"
   ]
  },
  {
   "cell_type": "code",
   "execution_count": null,
   "metadata": {},
   "outputs": [],
   "source": [
    "anxiety_data.info()"
   ]
  },
  {
   "cell_type": "code",
   "execution_count": null,
   "metadata": {},
   "outputs": [],
   "source": [
    "anxiety_data.duplicated().value_counts()"
   ]
  },
  {
   "cell_type": "code",
   "execution_count": null,
   "metadata": {},
   "outputs": [],
   "source": [
    "anxiety_data.nunique()"
   ]
  },
  {
   "cell_type": "code",
   "execution_count": null,
   "metadata": {},
   "outputs": [],
   "source": [
    "columns  = anxiety_data.columns\n",
    "\n",
    "for column in columns:\n",
    "    print(column)"
   ]
  },
  {
   "cell_type": "code",
   "execution_count": null,
   "metadata": {},
   "outputs": [],
   "source": [
    "# Fungsi untuk menentukan label tingkat kecemasan\n",
    "def get_anxiety_level(score):\n",
    "    if score <= 7:\n",
    "        return 'Normal'\n",
    "    elif score <= 9:\n",
    "        return 'Mild'\n",
    "    elif score <= 14:\n",
    "        return 'Moderate'\n",
    "    elif score <= 19:\n",
    "        return 'Severe'\n",
    "    else:\n",
    "        return 'Extremely Severe'"
   ]
  },
  {
   "cell_type": "code",
   "execution_count": null,
   "metadata": {},
   "outputs": [],
   "source": [
    "# Tambahkan kolom label\n",
    "anxiety_data['Label'] = anxiety_data['Total_Count'].apply(get_anxiety_level)\n",
    "\n",
    "# Hapus kolom Total_Count karena sudah tidak diperlukan\n",
    "final_anxiety_data = anxiety_data.drop(columns=['Total_Count'])"
   ]
  },
  {
   "cell_type": "code",
   "execution_count": null,
   "metadata": {},
   "outputs": [],
   "source": [
    "# Visualisasi distribusi label\n",
    "plt.figure(figsize=(10, 6))\n",
    "desired_labels = ['Extremely Severe', 'Severe', 'Moderate', 'Mild', 'Normal']\n",
    "label_counts = final_anxiety_data['Label'].value_counts()"
   ]
  },
  {
   "cell_type": "code",
   "execution_count": null,
   "metadata": {},
   "outputs": [],
   "source": [
    "# Plot diagram batang\n",
    "colors = ['skyblue', 'green', 'yellow', 'orange', 'gray']\n",
    "label_counts_ordered = label_counts.reindex(desired_labels)\n",
    "plt.bar(label_counts_ordered.index, label_counts_ordered.values, color=colors)\n",
    "\n",
    "plt.xlabel('Anxiety Level')\n",
    "plt.ylabel('Number of Respondents')\n",
    "plt.title('Distribution of Anxiety Levels')\n",
    "plt.xticks(rotation=45)\n",
    "plt.tight_layout()\n",
    "plt.show()"
   ]
  },
  {
   "cell_type": "code",
   "execution_count": null,
   "metadata": {},
   "outputs": [],
   "source": [
    "# Tampilan beberapa statistik dasar\n",
    "print(\"\\nDistribusi Label Anxiety:\")\n",
    "print(label_counts_ordered)\n",
    "print(\"\\nInformasi Dataset:\")\n",
    "print(final_anxiety_data.info())"
   ]
  },
  {
   "cell_type": "code",
   "execution_count": null,
   "metadata": {},
   "outputs": [],
   "source": [
    "# 1. Encoding label kategori menjadi numerik\n",
    "label_encoder = LabelEncoder()\n",
    "final_anxiety_data['Label_Encoded'] = label_encoder.fit_transform(final_anxiety_data['Label'])"
   ]
  },
  {
   "cell_type": "code",
   "execution_count": null,
   "metadata": {},
   "outputs": [],
   "source": [
    "# 2. Memisahkan features (X) dan target (y)\n",
    "X = final_anxiety_data.drop(['Label', 'Label_Encoded'], axis=1)  # Features (jawaban kuesioner)\n",
    "y = final_anxiety_data['Label_Encoded']  # Target (label yang sudah diencode)"
   ]
  },
  {
   "cell_type": "code",
   "execution_count": null,
   "metadata": {},
   "outputs": [],
   "source": [
    "# 3. Normalisasi fitur menggunakan StandardScaler\n",
    "scaler = StandardScaler()\n",
    "X_scaled = scaler.fit_transform(X)\n",
    "X_scaled = pd.DataFrame(X_scaled, columns=X.columns)"
   ]
  },
  {
   "cell_type": "code",
   "execution_count": null,
   "metadata": {},
   "outputs": [],
   "source": [
    "# 4. Membagi data menjadi training dan testing set (80:20)\n",
    "X_train, X_test, y_train, y_test = train_test_split(X_scaled, y, test_size=0.2, random_state=42)"
   ]
  },
  {
   "cell_type": "code",
   "execution_count": null,
   "metadata": {},
   "outputs": [],
   "source": [
    "# 5. informasi pembagian dataset\n",
    "print(\"Ukuran dataset:\")\n",
    "print(f\"Total dataset: {len(final_anxiety_data)}\")\n",
    "print(f\"Training set: {len(X_train)} samples\")\n",
    "print(f\"Testing set: {len(X_test)} samples\")"
   ]
  },
  {
   "cell_type": "code",
   "execution_count": null,
   "metadata": {},
   "outputs": [],
   "source": [
    "# 6. Visualisasi distribusi\n",
    "plt.figure(figsize=(12, 4))\n",
    "\n",
    "# Plot untuk training set\n",
    "plt.subplot(1, 2, 1)\n",
    "plt.hist(y_train, bins=len(label_encoder.classes_), alpha=0.7)\n",
    "plt.title('Distribusi Label Training Set')\n",
    "plt.xlabel('Label (Encoded)')\n",
    "plt.ylabel('Jumlah Samples')\n",
    "\n",
    "# Plot untuk testing set\n",
    "plt.subplot(1, 2, 2)\n",
    "plt.hist(y_test, bins=len(label_encoder.classes_), alpha=0.7)\n",
    "plt.title('Distribusi Label Testing Set')\n",
    "plt.xlabel('Label (Encoded)')\n",
    "plt.ylabel('Jumlah Samples')\n",
    "\n",
    "plt.tight_layout()\n",
    "plt.show()"
   ]
  },
  {
   "cell_type": "code",
   "execution_count": null,
   "metadata": {},
   "outputs": [],
   "source": [
    "# 7. Mencari nilai k optimal\n",
    "k_range = range(1, 31, 2)\n",
    "scores = []\n",
    "\n",
    "for k in k_range:\n",
    "    knn = KNeighborsClassifier(n_neighbors=k)\n",
    "    knn.fit(X_train, y_train)\n",
    "    scores.append(knn.score(X_test, y_test))"
   ]
  },
  {
   "cell_type": "code",
   "execution_count": null,
   "metadata": {},
   "outputs": [],
   "source": [
    "# Plot akurasi vs nilai k\n",
    "plt.figure(figsize=(10, 6))\n",
    "plt.plot(k_range, scores, 'bo-')\n",
    "plt.xlabel('Nilai k')\n",
    "plt.ylabel('Akurasi')\n",
    "plt.title('Akurasi Model vs Nilai k')\n",
    "plt.grid(True)\n",
    "plt.show()"
   ]
  },
  {
   "cell_type": "code",
   "execution_count": null,
   "metadata": {},
   "outputs": [],
   "source": [
    "# Mendapatkan nilai k optimal\n",
    "optimal_k = k_range[scores.index(max(scores))]\n",
    "print(f\"\\nNilai k optimal: {optimal_k}\")"
   ]
  },
  {
   "cell_type": "code",
   "execution_count": null,
   "metadata": {},
   "outputs": [],
   "source": [
    "# Inisialisasi model KNN dengan k optimal\n",
    "knn_model = KNeighborsClassifier(n_neighbors=optimal_k)\n",
    "\n",
    "# Training model\n",
    "knn_model.fit(X_train, y_train)\n",
    "\n",
    "# Prediksi\n",
    "y_pred = knn_model.predict(X_test)"
   ]
  },
  {
   "cell_type": "code",
   "execution_count": null,
   "metadata": {},
   "outputs": [],
   "source": [
    "# Evaluasi model\n",
    "accuracy = accuracy_score(y_test, y_pred)\n",
    "print(f\"\\nAccuracy: {accuracy:.4f}\")"
   ]
  },
  {
   "cell_type": "code",
   "execution_count": null,
   "metadata": {},
   "outputs": [],
   "source": [
    "# Classification Report\n",
    "print(\"\\nClassification Report:\")\n",
    "print(classification_report(y_test, y_pred, target_names=label_encoder.classes_))"
   ]
  },
  {
   "cell_type": "code",
   "execution_count": null,
   "metadata": {},
   "outputs": [],
   "source": [
    "# Confusion Matrix\n",
    "plt.figure(figsize=(10, 8))\n",
    "cm = confusion_matrix(y_test, y_pred)\n",
    "sns.heatmap(cm, annot=True, fmt='d', cmap='Blues',\n",
    "           xticklabels=label_encoder.classes_,\n",
    "           yticklabels=label_encoder.classes_)\n",
    "plt.title('Confusion Matrix - KNN')\n",
    "plt.ylabel('True Label')\n",
    "plt.xlabel('Predicted Label')\n",
    "plt.xticks(rotation=45)\n",
    "plt.tight_layout()\n",
    "plt.show()"
   ]
  },
  {
   "cell_type": "code",
   "execution_count": null,
   "metadata": {},
   "outputs": [],
   "source": [
    "# Simpan model\n",
    "import pickle\n",
    "with open('knn_anxiety_model.pkl', 'wb') as file:\n",
    "    pickle.dump(knn_model, file)\n",
    "\n",
    "# Simpan label encoder dan scaler\n",
    "with open('label_encoder.pkl', 'wb') as file:\n",
    "    pickle.dump(label_encoder, file)\n",
    "with open('scaler.pkl', 'wb') as file:\n",
    "    pickle.dump(scaler, file)"
   ]
  }
 ],
 "metadata": {
  "kernelspec": {
   "display_name": "venv",
   "language": "python",
   "name": "python3"
  },
  "language_info": {
   "codemirror_mode": {
    "name": "ipython",
    "version": 3
   },
   "file_extension": ".py",
   "mimetype": "text/x-python",
   "name": "python",
   "nbconvert_exporter": "python",
   "pygments_lexer": "ipython3",
   "version": "3.12.6"
  }
 },
 "nbformat": 4,
 "nbformat_minor": 2
}
